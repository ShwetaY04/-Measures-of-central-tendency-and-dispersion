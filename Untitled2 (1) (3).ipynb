{
 "cells": [
  {
   "cell_type": "markdown",
   "id": "5b4782f1",
   "metadata": {},
   "source": [
    "# Lab-1 : Measures of central tendency and dispersion\n",
    "\n",
    "User defined mean, median, mode, standard deviation and IQR functions"
   ]
  },
  {
   "cell_type": "raw",
   "id": "1fe84c8d",
   "metadata": {},
   "source": [
    "Importing necessary Libraries to validate the output"
   ]
  },
  {
   "cell_type": "code",
   "execution_count": null,
   "id": "f59231eb",
   "metadata": {},
   "outputs": [],
   "source": [
    "import numpy as np\n",
    "from scipy import stats as st\n",
    "import math\n",
    "\n",
    "list1=[4, 7, 17, 14, 12, 18, 3, 4, 16, 10, 4, 11]\n"
   ]
  },
  {
   "cell_type": "code",
   "execution_count": 60,
   "id": "c169054f",
   "metadata": {},
   "outputs": [],
   "source": [
    "def mean_func(list1):\n",
    "    sum=0\n",
    "    for i in list1:\n",
    "        sum= sum+i\n",
    "    m=round(sum/(len(list1)),2)\n",
    "    return m"
   ]
  },
  {
   "cell_type": "code",
   "execution_count": 62,
   "id": "b52c17e4",
   "metadata": {},
   "outputs": [
    {
     "name": "stdout",
     "output_type": "stream",
     "text": [
      "Pre-def function mean vaue:  10.0\n",
      "User def function mean value: 10.0\n"
     ]
    }
   ],
   "source": [
    "print(\"Pre-def function mean vaue: \",np.mean(list1))\n",
    "print(\"User def function mean_func value:\" ,mean_func(list1))"
   ]
  },
  {
   "cell_type": "code",
   "execution_count": 63,
   "id": "5220e10e",
   "metadata": {},
   "outputs": [],
   "source": [
    "def median_func(list1):\n",
    "    list1.sort()\n",
    "    a=(len(list1))\n",
    "    \n",
    "    if ((a%2)!=0):\n",
    "        \n",
    "        a=a//2\n",
    "        med=list1[a]   \n",
    "    else:\n",
    "        a=a//2\n",
    "        med=(list1[a-1]+list1[(a)])/2\n",
    "        \n",
    "    return med"
   ]
  },
  {
   "cell_type": "code",
   "execution_count": 64,
   "id": "1f331e11",
   "metadata": {},
   "outputs": [
    {
     "name": "stdout",
     "output_type": "stream",
     "text": [
      "Pre-def function median vaue:  10.5\n",
      "User def function median value: 10.5\n"
     ]
    }
   ],
   "source": [
    "print(\"Pre-def function median vaue: \",np.median(list1))\n",
    "print(\"User def function median_func value:\" ,median_func(list1))"
   ]
  },
  {
   "cell_type": "code",
   "execution_count": 70,
   "id": "005bed59",
   "metadata": {},
   "outputs": [],
   "source": [
    "def mode_func(list1):\n",
    "    \n",
    "    list2=[]\n",
    "    for i in range(0,len(list1)):  \n",
    "        count=0\n",
    "        for j in range(0,len(list1)):\n",
    "            if list1[i]==list1[j]:\n",
    "                count=count+1  \n",
    "        list2.append(count)\n",
    "    max=list2[0]\n",
    "    for k in range(0, len(list2)):\n",
    "        if max<list2[k]:\n",
    "            max=list2[k]\n",
    "    inde=list2.index(max)\n",
    "    mode=list1[inde]\n",
    "    return \"Mode=\",mode, \"Count=\" ,max\n",
    "                   "
   ]
  },
  {
   "cell_type": "code",
   "execution_count": 71,
   "id": "eed3a1c9",
   "metadata": {},
   "outputs": [
    {
     "name": "stdout",
     "output_type": "stream",
     "text": [
      "Pre-def function mode vaue:  ModeResult(mode=array([4]), count=array([3]))\n",
      "User def function mode_func value: ('Mode=', 4, 'Count=', 3)\n"
     ]
    }
   ],
   "source": [
    "print(\"Pre-def function mode vaue: \",st.mode(list1))\n",
    "print(\"User def function mode_func value:\" ,mode_func(list1))\n",
    "\n"
   ]
  },
  {
   "cell_type": "code",
   "execution_count": 77,
   "id": "b363722c",
   "metadata": {},
   "outputs": [],
   "source": [
    "\n",
    "def std_func(list1):\n",
    "    l=[]\n",
    "    sum=0\n",
    "    m=mean_func(list1)\n",
    "    for i in list1:\n",
    "        l.append((i-m)**2)\n",
    "    for j in l:\n",
    "        sum=sum+j\n",
    "    std=sum/len(l)\n",
    "    standard=math.sqrt(std)\n",
    "    return standard\n",
    "        \n",
    "        \n",
    "    \n",
    "    \n",
    "        "
   ]
  },
  {
   "cell_type": "code",
   "execution_count": 78,
   "id": "16f075bd",
   "metadata": {},
   "outputs": [
    {
     "name": "stdout",
     "output_type": "stream",
     "text": [
      "Pre-def function standard deviation vaue:  5.291502622129181\n",
      "User def function std_fuc value: 5.291502622129181\n"
     ]
    }
   ],
   "source": [
    "print(\"Pre-def function standard deviation vaue: \", np.std(list1))\n",
    "print(\"User def function std_fuc value:\" ,std_func(list1))\n",
    "\n"
   ]
  },
  {
   "cell_type": "code",
   "execution_count": 85,
   "id": "6b60adef",
   "metadata": {},
   "outputs": [],
   "source": [
    "def iqr_func(list1):\n",
    "    \n",
    "    q1=[]\n",
    "    q3=[]\n",
    "    m=median(list1)  \n",
    "    for i in list1:     \n",
    "        if(i<m):\n",
    "            q1.append(i)\n",
    "        elif(i>m):\n",
    "            q3.append(i)\n",
    "    q1_mid=median(q1)\n",
    "    q3_mid=median(q3)\n",
    "    iqr=q3_mid-q1_mid\n",
    "    return iqr"
   ]
  },
  {
   "cell_type": "code",
   "execution_count": 89,
   "id": "d5080484",
   "metadata": {},
   "outputs": [
    {
     "name": "stdout",
     "output_type": "stream",
     "text": [
      "User def function iqr_func value: 10\n"
     ]
    }
   ],
   "source": [
    "\n",
    "print(\"User def function iqr_func value:\" ,iqr_func(list1))\n"
   ]
  }
 ],
 "metadata": {
  "kernelspec": {
   "display_name": "Python 3 (ipykernel)",
   "language": "python",
   "name": "python3"
  },
  "language_info": {
   "codemirror_mode": {
    "name": "ipython",
    "version": 3
   },
   "file_extension": ".py",
   "mimetype": "text/x-python",
   "name": "python",
   "nbconvert_exporter": "python",
   "pygments_lexer": "ipython3",
   "version": "3.9.12"
  }
 },
 "nbformat": 4,
 "nbformat_minor": 5
}
